{
 "cells": [
  {
   "cell_type": "code",
   "execution_count": 1,
   "metadata": {},
   "outputs": [],
   "source": [
    "import numpy as np\n",
    "import pandas as pd\n",
    "import seaborn as sns"
   ]
  },
  {
   "cell_type": "markdown",
   "metadata": {},
   "source": [
    "# 1. Combining standings and stats from the premier league and championship"
   ]
  },
  {
   "cell_type": "code",
   "execution_count": 2,
   "metadata": {},
   "outputs": [],
   "source": [
    "def tablecombine(year):\n",
    "    \"\"\"\n",
    "    Every year 3 teams are promoted to the premier league from a lower league.\n",
    "    This function helps normalize the performance of the teams in the lower league and combine the tables of premier league and lower league to obtain a single table.\n",
    "    The discount factors were obtained from how newly promoted teams have performed historically.\n",
    "    Input is the year for which we want a consolidated table. Output is the consolidated table for the requested year.\n",
    "    \"\"\"\n",
    "    # Load the premier league table for the requested year.\n",
    "    tableyear=pd.read_csv('Data\\Table'+year+'.csv',skiprows=1)\n",
    "    \n",
    "    # Load the lower league table for the requested year.\n",
    "    tableyear_EFL=pd.read_csv('Data\\Table'+year+'-EFL.csv',skiprows=1)\n",
    "    \n",
    "    # Normalizing points scored in the lower league to account for the lower difficulty.\n",
    "    # 'Pts' corresponds to points scored by the team at home during the requested season.\n",
    "    # 'Pts.1' corresponds to points scored by the team away from home during the requested season.\n",
    "    tableyear_EFL['Pts']=tableyear_EFL['Pts']/3.57\n",
    "    tableyear_EFL['Pts.1']=tableyear_EFL['Pts.1']/3.57\n",
    "    \n",
    "    # Normalizing goals scored in the lower league to account for the lower difficulty.\n",
    "    # 'GF' corresponds to goals scored by the team at home during the requested season.\n",
    "    # 'GF.1' corresponds to goals scored by the team away from home during the requested season.\n",
    "    tableyear_EFL['GF']=tableyear_EFL['GF']/3.40\n",
    "    tableyear_EFL['GF.1']=tableyear_EFL['GF.1']/3.40\n",
    "    \n",
    "    # Normalizing goals conceded in the lower league to account for the lower difficulty.\n",
    "    # 'GA' corresponds to goals conceded by the team at home during the requested season.\n",
    "    # 'GA.1' corresponds to goals conceded by the team away from home during the requested season.\n",
    "    tableyear_EFL['GA']=tableyear_EFL['GA']/1.59\n",
    "    tableyear_EFL['GA.1']=tableyear_EFL['GA.1']/1.59\n",
    "    \n",
    "    # Consolidating the premier league and lower league table\n",
    "    frames=[tableyear,tableyear_EFL]\n",
    "    tableyear_combined=pd.concat(frames,sort=False)\n",
    "    tableyear_combined.reset_index(drop=True)\n",
    "    \n",
    "    return(tableyear_combined)"
   ]
  },
  {
   "cell_type": "code",
   "execution_count": 3,
   "metadata": {},
   "outputs": [],
   "source": [
    "def stattablecombine(year):\n",
    "    \"\"\"\n",
    "    Every year 3 teams are promoted to the premier league from a lower league.\n",
    "    This function helps consolidate squad stats from both leagues into a single table.\n",
    "    Input is the year for which we want a consolidated table. Output is the consolidated table for the requested year.\n",
    "    \"\"\"\n",
    "    # Load the premier league squad stats table for the requested year\n",
    "    tableyear=pd.read_csv('Data\\Squadstat'+year+'.csv',skiprows=1)\n",
    "    \n",
    "    # Load the lower league squad stats table \n",
    "    tableyear_EFL=pd.read_csv('Data\\Squadstat'+year+'-EFL.csv',skiprows=1)\n",
    "    \n",
    "    # Consolidating the premier league and lower league table\n",
    "    frames=[tableyear,tableyear_EFL]\n",
    "    tableyear_combined=pd.concat(frames,sort=False)\n",
    "    tableyear_combined.reset_index(drop=True)\n",
    "    return(tableyear_combined)"
   ]
  },
  {
   "cell_type": "code",
   "execution_count": null,
   "metadata": {},
   "outputs": [],
   "source": [
    "# Generating combined table and stat tables across years\n",
    "\n",
    "table2019_combined=tablecombine('2019')\n",
    "table2018_combined=tablecombine('2018')\n",
    "table2017_combined=tablecombine('2017')\n",
    "table2016_combined=tablecombine('2016')\n",
    "table2015_combined=tablecombine('2015')\n",
    "\n",
    "stat2019_combined=stattablecombine('2019')\n",
    "stat2018_combined=stattablecombine('2018')\n",
    "stat2017_combined=stattablecombine('2017')\n",
    "stat2016_combined=stattablecombine('2016')\n",
    "stat2015_combined=stattablecombine('2015')"
   ]
  },
  {
   "cell_type": "code",
   "execution_count": null,
   "metadata": {},
   "outputs": [],
   "source": [
    "# The names of teams are not consistent across all the data obtained from the internet. In this cell, we correct these problematic names and make the names consistent.\n",
    "\n",
    "table2019_combined['Squad']=table2019_combined['Squad'].replace({'Manchester City':'Man City','Leicester City':'Leicester','Cardiff City':'Cardiff','Manchester Utd':'Man United','Newcastle Utd':'Newcastle','Norwich City':'Norwich','Sheffield Utd':'Sheffield United','Swansea City':'Swansea','Stoke City':'Stoke','Hull City':'Hull'})\n",
    "table2018_combined['Squad']=table2018_combined['Squad'].replace({'Manchester City':'Man City','Leicester City':'Leicester','Cardiff City':'Cardiff','Manchester Utd':'Man United','Newcastle Utd':'Newcastle','Norwich City':'Norwich','Sheffield Utd':'Sheffield United','Swansea City':'Swansea','Stoke City':'Stoke','Hull City':'Hull'})\n",
    "table2017_combined['Squad']=table2017_combined['Squad'].replace({'Manchester City':'Man City','Leicester City':'Leicester','Cardiff City':'Cardiff','Manchester Utd':'Man United','Newcastle Utd':'Newcastle','Norwich City':'Norwich','Sheffield Utd':'Sheffield United','Swansea City':'Swansea','Stoke City':'Stoke','Hull City':'Hull'})\n",
    "table2016_combined['Squad']=table2016_combined['Squad'].replace({'Manchester City':'Man City','Leicester City':'Leicester','Cardiff City':'Cardiff','Manchester Utd':'Man United','Newcastle Utd':'Newcastle','Norwich City':'Norwich','Sheffield Utd':'Sheffield United','Swansea City':'Swansea','Stoke City':'Stoke','Hull City':'Hull'})\n",
    "table2015_combined['Squad']=table2015_combined['Squad'].replace({'Manchester City':'Man City','Leicester City':'Leicester','Cardiff City':'Cardiff','Manchester Utd':'Man United','Newcastle Utd':'Newcastle','Norwich City':'Norwich','Sheffield Utd':'Sheffield United','Swansea City':'Swansea','Stoke City':'Stoke','Hull City':'Hull'})\n",
    "\n",
    "stat2019_combined['Squad']=stat2019_combined['Squad'].replace({'Manchester City':'Man City','Leicester City':'Leicester','Cardiff City':'Cardiff','Manchester Utd':'Man United','Newcastle Utd':'Newcastle','Norwich City':'Norwich','Sheffield Utd':'Sheffield United','Swansea City':'Swansea','Stoke City':'Stoke','Hull City':'Hull'})\n",
    "stat2018_combined['Squad']=stat2018_combined['Squad'].replace({'Manchester City':'Man City','Leicester City':'Leicester','Cardiff City':'Cardiff','Manchester Utd':'Man United','Newcastle Utd':'Newcastle','Norwich City':'Norwich','Sheffield Utd':'Sheffield United','Swansea City':'Swansea','Stoke City':'Stoke','Hull City':'Hull'})\n",
    "stat2017_combined['Squad']=stat2017_combined['Squad'].replace({'Manchester City':'Man City','Leicester City':'Leicester','Cardiff City':'Cardiff','Manchester Utd':'Man United','Newcastle Utd':'Newcastle','Norwich City':'Norwich','Sheffield Utd':'Sheffield United','Swansea City':'Swansea','Stoke City':'Stoke','Hull City':'Hull'})\n",
    "stat2016_combined['Squad']=stat2016_combined['Squad'].replace({'Manchester City':'Man City','Leicester City':'Leicester','Cardiff City':'Cardiff','Manchester Utd':'Man United','Newcastle Utd':'Newcastle','Norwich City':'Norwich','Sheffield Utd':'Sheffield United','Swansea City':'Swansea','Stoke City':'Stoke','Hull City':'Hull'})\n",
    "stat2015_combined['Squad']=stat2015_combined['Squad'].replace({'Manchester City':'Man City','Leicester City':'Leicester','Cardiff City':'Cardiff','Manchester Utd':'Man United','Newcastle Utd':'Newcastle','Norwich City':'Norwich','Sheffield Utd':'Sheffield United','Swansea City':'Swansea','Stoke City':'Stoke','Hull City':'Hull'})\n"
   ]
  },
  {
   "cell_type": "markdown",
   "metadata": {},
   "source": [
    "# 2. Feature generation"
   ]
  },
  {
   "cell_type": "markdown",
   "metadata": {},
   "source": [
    "## 2a. Each match over the last 4 years represents a data point. Loading and generating features for these data points"
   ]
  },
  {
   "cell_type": "code",
   "execution_count": null,
   "metadata": {},
   "outputs": [],
   "source": [
    "# Loading tables of premier league results over the years. \n",
    "results2020=pd.read_csv('E0.csv')\n",
    "results2019=pd.read_csv('E0 (1).csv')\n",
    "results2018=pd.read_csv('E0 (2).csv')\n",
    "results2017=pd.read_csv('E0 (3).csv')\n",
    "results2016=pd.read_csv('E0 (4).csv')\n",
    "results2015=pd.read_csv('E0 (5).csv')"
   ]
  },
  {
   "cell_type": "code",
   "execution_count": 4,
   "metadata": {},
   "outputs": [],
   "source": [
    "def featureadd2(results2019,table2019_combined,stat2019_combined):\n",
    "    \"\"\"\n",
    "    The raw data of premier league fixtures does not contain information about how the teams in any fixture performed last season. This function helps add these details to the fixture table  \n",
    "    \"\"\"\n",
    "    # Adding the goals scored and conceded by the home team last season for every fixture\n",
    "    Finalfixlist2019=pd.merge(left=results2019, right=table2019_combined[['Squad','GF','GA','Pts']], how='left',left_on='HomeTeam',right_on='Squad')\n",
    "    Finalfixlist2019.drop(['Squad'], axis=1,inplace=True)\n",
    "    \n",
    "    # Adding the goals scored and conceded by the away team last season for every fixture\n",
    "    Finalfixlist2019=pd.merge(left=Finalfixlist2019, right=table2019_combined[['Squad','GF.1','GA.1','Pts.1']], how='left',left_on='AwayTeam',right_on='Squad')\n",
    "    Finalfixlist2019.drop(['Squad'], axis=1,inplace=True)\n",
    "    \n",
    "    # Adding possesion stats of the home and away team last season for every fixture    \n",
    "    Finalfixlist2019=pd.merge(left=Finalfixlist2019, right=stat2019_combined[['Squad','Poss']], how='left',left_on='HomeTeam',right_on='Squad')\n",
    "    Finalfixlist2019.drop(['Squad'], axis=1,inplace=True)\n",
    "    Finalfixlist2019=pd.merge(left=Finalfixlist2019, right=stat2019_combined[['Squad','Poss']], how='left',left_on='AwayTeam',right_on='Squad')\n",
    "    Finalfixlist2019.drop(['Squad'], axis=1,inplace=True)\n",
    "    return Finalfixlist2019"
   ]
  },
  {
   "cell_type": "code",
   "execution_count": null,
   "metadata": {},
   "outputs": [],
   "source": [
    "# Each fixture is a data point. The current fixture tables do not have information about the home and away teams performances last season. We add these as columns in this cell.\n",
    "Finalfixlist2019=featureadd2(results2019,table2018_combined,stat2018_combined)\n",
    "Finalfixlist2018=featureadd2(results2018,table2017_combined,stat2017_combined)\n",
    "Finalfixlist2017=featureadd2(results2017,table2016_combined,stat2016_combined)\n",
    "Finalfixlist2016=featureadd2(results2016,table2015_combined,stat2015_combined)\n",
    "Finalfixlist2020=featureadd2(results2020,table2019_combined,stat2019_combined)\n",
    "\n",
    "# Possession stats for promoted teams unavailable in 2015 and 2016. So we use 50% possesion as proxy.\n",
    "Finalfixlist2017=Finalfixlist2017.fillna(50)\n",
    "Finalfixlist2016=Finalfixlist2016.fillna(50)"
   ]
  },
  {
   "cell_type": "code",
   "execution_count": null,
   "metadata": {},
   "outputs": [],
   "source": [
    "def featureadd3(results2019,stat2019_combined):\n",
    "     \"\"\"\n",
    "    The raw data of premier league fixtures does not contain information about how the teams in any fixture performed last season. This function helps add these details to the fixture table  \n",
    "    \"\"\"\n",
    "    # Adding yellow and red card stats of the home and away team last season for every fixture    \n",
    "    Finalfixlist2019=pd.merge(left=results2019, right=stat2019_combined[['Squad','CrdY','CrdR']], how='left',left_on='HomeTeam',right_on='Squad')\n",
    "    Finalfixlist2019.drop(['Squad'], axis=1,inplace=True)\n",
    "    Finalfixlist2019=pd.merge(left=Finalfixlist2019, right=stat2019_combined[['Squad','CrdY','CrdR']], how='left',left_on='AwayTeam',right_on='Squad')\n",
    "    Finalfixlist2019.drop(['Squad'], axis=1,inplace=True)\n",
    "    return Finalfixlist2019"
   ]
  },
  {
   "cell_type": "code",
   "execution_count": null,
   "metadata": {},
   "outputs": [],
   "source": [
    "Finalfixlist2020=featureadd3(Finalfixlist2020,stat2019_combined)\n",
    "Finalfixlist2019=featureadd3(Finalfixlist2019,stat2018_combined)\n",
    "Finalfixlist2018=featureadd3(Finalfixlist2018,stat2017_combined)\n",
    "Finalfixlist2017=featureadd3(Finalfixlist2017,stat2016_combined)\n",
    "Finalfixlist2016=featureadd3(Finalfixlist2016,stat2015_combined)"
   ]
  },
  {
   "cell_type": "markdown",
   "metadata": {},
   "source": [
    "## 2b. Adding in form going into a fixture as feature"
   ]
  },
  {
   "cell_type": "code",
   "execution_count": null,
   "metadata": {},
   "outputs": [],
   "source": [
    "Finalfixlist2016['Home Form']=0\n",
    "Finalfixlist2016['Away Form']=0\n",
    "Finalfixlist2017['Home Form']=0\n",
    "Finalfixlist2017['Away Form']=0\n",
    "Finalfixlist2018['Home Form']=0\n",
    "Finalfixlist2018['Away Form']=0\n",
    "Finalfixlist2019['Home Form']=0\n",
    "Finalfixlist2019['Away Form']=0\n",
    "Finalfixlist2020['Home Form']=0\n",
    "Finalfixlist2020['Away Form']=0"
   ]
  },
  {
   "cell_type": "code",
   "execution_count": null,
   "metadata": {},
   "outputs": [],
   "source": [
    "def formfinder(Finalfixlist2016):\n",
    "    for i in range(11,Finalfixlist2016.shape[0]):\n",
    "        df_matches_before=Finalfixlist2016.iloc[0:i,:]\n",
    "        df_home_team_matches=df_matches_before.loc[df_matches_before['HomeTeam']==Finalfixlist2016.iloc[i,2]]\n",
    "        df_away_team_matches=df_matches_before.loc[df_matches_before['AwayTeam']==Finalfixlist2016.iloc[i,3]]\n",
    "        homeform=0\n",
    "        awayform=0\n",
    "        if df_home_team_matches.shape[0]>0:\n",
    "            if df_home_team_matches.shape[0]>4:\n",
    "                for j in range(5):\n",
    "                    if df_home_team_matches.iloc[-j-1,6]=='H':\n",
    "                        homeform=homeform+3\n",
    "                    elif df_home_team_matches.iloc[-j-1,6]=='L':\n",
    "                        homeform=homeform+0\n",
    "                    else:\n",
    "                        homeform=homeform+1\n",
    "            else:\n",
    "                for j in range(df_home_team_matches.shape[0]):\n",
    "                    if df_home_team_matches.iloc[-j-1,6]=='H':\n",
    "                        homeform=homeform+3\n",
    "                    elif df_home_team_matches.iloc[-j-1,6]=='L':\n",
    "                        homeform=0\n",
    "                    else:\n",
    "                        homeform=homeform+1 \n",
    "        if df_away_team_matches.shape[0]>0:\n",
    "            if df_away_team_matches.shape[0]>4:\n",
    "                for j in range(5):\n",
    "                    if df_away_team_matches.iloc[-j-1,6]=='H':\n",
    "                        awayform=awayform+0\n",
    "                    elif df_away_team_matches.iloc[-j-1,6]=='L':\n",
    "                        awayform=awayform+3\n",
    "                    else:\n",
    "                        awayform=awayform+1\n",
    "            else:\n",
    "                for j in range(df_away_team_matches.shape[0]):\n",
    "                    if df_away_team_matches.iloc[-j-1,6]=='H':\n",
    "                        awayform=awayform+0\n",
    "                    elif df_away_team_matches.iloc[-j-1,6]=='L':\n",
    "                        awayform=awayform+3\n",
    "                    else:\n",
    "                        awayform=awayform+1 \n",
    "        Finalfixlist2016.iloc[i,77]=homeform\n",
    "        Finalfixlist2016.iloc[i,78]=awayform\n",
    "    return(Finalfixlist2016)\n"
   ]
  },
  {
   "cell_type": "code",
   "execution_count": null,
   "metadata": {},
   "outputs": [],
   "source": [
    "Finalfixlist2016=formfinder(Finalfixlist2016)\n",
    "Finalfixlist2017=formfinder(Finalfixlist2017)\n",
    "Finalfixlist2018=formfinder(Finalfixlist2018)"
   ]
  },
  {
   "cell_type": "code",
   "execution_count": null,
   "metadata": {},
   "outputs": [],
   "source": [
    "def formfinder2(Finalfixlist2016):\n",
    "    for i in range(11,Finalfixlist2016.shape[0]):\n",
    "        df_matches_before=Finalfixlist2016.iloc[0:i,:]\n",
    "        df_home_team_matches=df_matches_before.loc[df_matches_before['HomeTeam']==Finalfixlist2016.iloc[i,2]]\n",
    "        df_away_team_matches=df_matches_before.loc[df_matches_before['AwayTeam']==Finalfixlist2016.iloc[i,3]]\n",
    "        homeform=0\n",
    "        awayform=0\n",
    "        if df_home_team_matches.shape[0]>0:\n",
    "            if df_home_team_matches.shape[0]>4:\n",
    "                for j in range(5):\n",
    "                    if df_home_team_matches.iloc[-j-1,6]=='H':\n",
    "                        homeform=homeform+3\n",
    "                    elif df_home_team_matches.iloc[-j-1,6]=='L':\n",
    "                        homeform=homeform+0\n",
    "                    else:\n",
    "                        homeform=homeform+1\n",
    "            else:\n",
    "                for j in range(df_home_team_matches.shape[0]):\n",
    "                    if df_home_team_matches.iloc[-j-1,6]=='H':\n",
    "                        homeform=homeform+3\n",
    "                    elif df_home_team_matches.iloc[-j-1,6]=='L':\n",
    "                        homeform=0\n",
    "                    else:\n",
    "                        homeform=homeform+1 \n",
    "        if df_away_team_matches.shape[0]>0:\n",
    "            if df_away_team_matches.shape[0]>4:\n",
    "                for j in range(5):\n",
    "                    if df_away_team_matches.iloc[-j-1,6]=='H':\n",
    "                        awayform=awayform+0\n",
    "                    elif df_away_team_matches.iloc[-j-1,6]=='L':\n",
    "                        awayform=awayform+3\n",
    "                    else:\n",
    "                        awayform=awayform+1\n",
    "            else:\n",
    "                for j in range(df_away_team_matches.shape[0]):\n",
    "                    if df_away_team_matches.iloc[-j-1,6]=='H':\n",
    "                        awayform=awayform+0\n",
    "                    elif df_away_team_matches.iloc[-j-1,6]=='L':\n",
    "                        awayform=awayform+3\n",
    "                    else:\n",
    "                        awayform=awayform+1 \n",
    "        Finalfixlist2016.iloc[i,74]=homeform\n",
    "        Finalfixlist2016.iloc[i,75]=awayform\n",
    "    return(Finalfixlist2016)"
   ]
  },
  {
   "cell_type": "code",
   "execution_count": null,
   "metadata": {},
   "outputs": [],
   "source": [
    "Finalfixlist2019=formfinder2(Finalfixlist2019)"
   ]
  },
  {
   "cell_type": "code",
   "execution_count": null,
   "metadata": {},
   "outputs": [],
   "source": [
    "def formfinder3(Finalfixlist2016):\n",
    "    for i in range(11,Finalfixlist2016.shape[0]):\n",
    "        df_matches_before=Finalfixlist2016.iloc[0:i,:]\n",
    "        df_home_team_matches=df_matches_before.loc[df_matches_before['HomeTeam']==Finalfixlist2016.iloc[i,3]]\n",
    "        df_away_team_matches=df_matches_before.loc[df_matches_before['AwayTeam']==Finalfixlist2016.iloc[i,4]]\n",
    "        homeform=0\n",
    "        awayform=0\n",
    "        if df_home_team_matches.shape[0]>0:\n",
    "            if df_home_team_matches.shape[0]>4:\n",
    "                for j in range(5):\n",
    "                    if df_home_team_matches.iloc[-j-1,7]=='H':\n",
    "                        homeform=homeform+3\n",
    "                    elif df_home_team_matches.iloc[-j-1,7]=='L':\n",
    "                        homeform=homeform+0\n",
    "                    else:\n",
    "                        homeform=homeform+1\n",
    "            else:\n",
    "                for j in range(df_home_team_matches.shape[0]):\n",
    "                    if df_home_team_matches.iloc[-j-1,7]=='H':\n",
    "                        homeform=homeform+3\n",
    "                    elif df_home_team_matches.iloc[-j-1,7]=='L':\n",
    "                        homeform=0\n",
    "                    else:\n",
    "                        homeform=homeform+1 \n",
    "        if df_away_team_matches.shape[0]>0:\n",
    "            if df_away_team_matches.shape[0]>4:\n",
    "                for j in range(5):\n",
    "                    if df_away_team_matches.iloc[-j-1,7]=='H':\n",
    "                        awayform=awayform+0\n",
    "                    elif df_away_team_matches.iloc[-j-1,7]=='L':\n",
    "                        awayform=awayform+3\n",
    "                    else:\n",
    "                        awayform=awayform+1\n",
    "            else:\n",
    "                for j in range(df_away_team_matches.shape[0]):\n",
    "                    if df_away_team_matches.iloc[-j-1,7]=='H':\n",
    "                        awayform=awayform+0\n",
    "                    elif df_away_team_matches.iloc[-j-1,7]=='L':\n",
    "                        awayform=awayform+3\n",
    "                    else:\n",
    "                        awayform=awayform+1 \n",
    "        Finalfixlist2016.iloc[i,118]=homeform\n",
    "        Finalfixlist2016.iloc[i,119]=awayform\n",
    "    return(Finalfixlist2016)"
   ]
  },
  {
   "cell_type": "code",
   "execution_count": null,
   "metadata": {},
   "outputs": [],
   "source": [
    "Finalfixlist2020=formfinder3(Finalfixlist2020)"
   ]
  },
  {
   "cell_type": "markdown",
   "metadata": {},
   "source": [
    "# 3. Exporting the cleaned data"
   ]
  },
  {
   "cell_type": "code",
   "execution_count": null,
   "metadata": {},
   "outputs": [],
   "source": [
    "Finalfixlist2020.to_csv(r'Data\\Finalfixlist2020.csv', index = False)\n",
    "Finalfixlist2019.to_csv(r'Data\\Finalfixlist2019.csv', index = False)\n",
    "Finalfixlist2018.to_csv(r'Data\\Finalfixlist2018.csv', index = False)\n",
    "Finalfixlist2017.to_csv(r'Data\\Finalfixlist2017.csv', index = False)\n",
    "Finalfixlist2016.to_csv(r'Data\\Finalfixlist2016.csv', index = False)"
   ]
  }
 ],
 "metadata": {
  "kernelspec": {
   "display_name": "Python 3",
   "language": "python",
   "name": "python3"
  },
  "language_info": {
   "codemirror_mode": {
    "name": "ipython",
    "version": 3
   },
   "file_extension": ".py",
   "mimetype": "text/x-python",
   "name": "python",
   "nbconvert_exporter": "python",
   "pygments_lexer": "ipython3",
   "version": "3.7.4"
  }
 },
 "nbformat": 4,
 "nbformat_minor": 2
}
