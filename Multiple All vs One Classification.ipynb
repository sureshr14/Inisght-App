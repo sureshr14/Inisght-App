{
 "cells": [
  {
   "cell_type": "code",
   "execution_count": 1,
   "metadata": {},
   "outputs": [],
   "source": [
    "import numpy as np\n",
    "import pandas as pd\n",
    "import seaborn as sns\n",
    "from sklearn.linear_model import LogisticRegression\n",
    "from sklearn.metrics import mean_squared_error, r2_score\n",
    "from sklearn.metrics import precision_recall_curve\n",
    "from sklearn.model_selection import train_test_split\n",
    "from sklearn.metrics import classification_report\n",
    "from xgboost import XGBClassifier"
   ]
  },
  {
   "cell_type": "code",
   "execution_count": 2,
   "metadata": {},
   "outputs": [],
   "source": [
    "import matplotlib.pyplot as plt\n",
    "from IPython.display import set_matplotlib_formats\n",
    "set_matplotlib_formats('png', 'pdf')"
   ]
  },
  {
   "cell_type": "code",
   "execution_count": 3,
   "metadata": {},
   "outputs": [
    {
     "data": {
      "text/html": [
       "<div>\n",
       "<style scoped>\n",
       "    .dataframe tbody tr th:only-of-type {\n",
       "        vertical-align: middle;\n",
       "    }\n",
       "\n",
       "    .dataframe tbody tr th {\n",
       "        vertical-align: top;\n",
       "    }\n",
       "\n",
       "    .dataframe thead th {\n",
       "        text-align: right;\n",
       "    }\n",
       "</style>\n",
       "<table border=\"1\" class=\"dataframe\">\n",
       "  <thead>\n",
       "    <tr style=\"text-align: right;\">\n",
       "      <th></th>\n",
       "      <th>Div</th>\n",
       "      <th>Date</th>\n",
       "      <th>Time</th>\n",
       "      <th>HomeTeam</th>\n",
       "      <th>AwayTeam</th>\n",
       "      <th>FTHG</th>\n",
       "      <th>FTAG</th>\n",
       "      <th>FTR</th>\n",
       "      <th>HTHG</th>\n",
       "      <th>HTAG</th>\n",
       "      <th>...</th>\n",
       "      <th>Poss_y</th>\n",
       "      <th>CrdY_x</th>\n",
       "      <th>CrdR_x</th>\n",
       "      <th>CrdY_y</th>\n",
       "      <th>CrdR_y</th>\n",
       "      <th>Home Form</th>\n",
       "      <th>Away Form</th>\n",
       "      <th>ImpliedH</th>\n",
       "      <th>ImpliedD</th>\n",
       "      <th>ImpliedA</th>\n",
       "    </tr>\n",
       "  </thead>\n",
       "  <tbody>\n",
       "    <tr>\n",
       "      <td>0</td>\n",
       "      <td>E0</td>\n",
       "      <td>09/08/2019</td>\n",
       "      <td>20:00</td>\n",
       "      <td>Liverpool</td>\n",
       "      <td>Norwich</td>\n",
       "      <td>4</td>\n",
       "      <td>1</td>\n",
       "      <td>H</td>\n",
       "      <td>4</td>\n",
       "      <td>0</td>\n",
       "      <td>...</td>\n",
       "      <td>57.6</td>\n",
       "      <td>39</td>\n",
       "      <td>2</td>\n",
       "      <td>79</td>\n",
       "      <td>1</td>\n",
       "      <td>0</td>\n",
       "      <td>0</td>\n",
       "      <td>0.877193</td>\n",
       "      <td>0.114286</td>\n",
       "      <td>0.050429</td>\n",
       "    </tr>\n",
       "    <tr>\n",
       "      <td>1</td>\n",
       "      <td>E0</td>\n",
       "      <td>10/08/2019</td>\n",
       "      <td>12:30</td>\n",
       "      <td>West Ham</td>\n",
       "      <td>Man City</td>\n",
       "      <td>0</td>\n",
       "      <td>5</td>\n",
       "      <td>A</td>\n",
       "      <td>0</td>\n",
       "      <td>1</td>\n",
       "      <td>...</td>\n",
       "      <td>67.8</td>\n",
       "      <td>59</td>\n",
       "      <td>1</td>\n",
       "      <td>44</td>\n",
       "      <td>1</td>\n",
       "      <td>0</td>\n",
       "      <td>0</td>\n",
       "      <td>0.084459</td>\n",
       "      <td>0.159236</td>\n",
       "      <td>0.800000</td>\n",
       "    </tr>\n",
       "    <tr>\n",
       "      <td>2</td>\n",
       "      <td>E0</td>\n",
       "      <td>10/08/2019</td>\n",
       "      <td>15:00</td>\n",
       "      <td>Bournemouth</td>\n",
       "      <td>Sheffield United</td>\n",
       "      <td>1</td>\n",
       "      <td>1</td>\n",
       "      <td>D</td>\n",
       "      <td>0</td>\n",
       "      <td>0</td>\n",
       "      <td>...</td>\n",
       "      <td>52.1</td>\n",
       "      <td>60</td>\n",
       "      <td>1</td>\n",
       "      <td>75</td>\n",
       "      <td>3</td>\n",
       "      <td>0</td>\n",
       "      <td>0</td>\n",
       "      <td>0.497512</td>\n",
       "      <td>0.283286</td>\n",
       "      <td>0.261097</td>\n",
       "    </tr>\n",
       "    <tr>\n",
       "      <td>3</td>\n",
       "      <td>E0</td>\n",
       "      <td>10/08/2019</td>\n",
       "      <td>15:00</td>\n",
       "      <td>Burnley</td>\n",
       "      <td>Southampton</td>\n",
       "      <td>3</td>\n",
       "      <td>0</td>\n",
       "      <td>H</td>\n",
       "      <td>0</td>\n",
       "      <td>0</td>\n",
       "      <td>...</td>\n",
       "      <td>43.9</td>\n",
       "      <td>75</td>\n",
       "      <td>1</td>\n",
       "      <td>73</td>\n",
       "      <td>3</td>\n",
       "      <td>0</td>\n",
       "      <td>0</td>\n",
       "      <td>0.373134</td>\n",
       "      <td>0.310559</td>\n",
       "      <td>0.359712</td>\n",
       "    </tr>\n",
       "    <tr>\n",
       "      <td>4</td>\n",
       "      <td>E0</td>\n",
       "      <td>10/08/2019</td>\n",
       "      <td>15:00</td>\n",
       "      <td>Crystal Palace</td>\n",
       "      <td>Everton</td>\n",
       "      <td>0</td>\n",
       "      <td>0</td>\n",
       "      <td>D</td>\n",
       "      <td>0</td>\n",
       "      <td>0</td>\n",
       "      <td>...</td>\n",
       "      <td>51.5</td>\n",
       "      <td>58</td>\n",
       "      <td>2</td>\n",
       "      <td>56</td>\n",
       "      <td>4</td>\n",
       "      <td>0</td>\n",
       "      <td>0</td>\n",
       "      <td>0.319489</td>\n",
       "      <td>0.305810</td>\n",
       "      <td>0.416667</td>\n",
       "    </tr>\n",
       "    <tr>\n",
       "      <td>...</td>\n",
       "      <td>...</td>\n",
       "      <td>...</td>\n",
       "      <td>...</td>\n",
       "      <td>...</td>\n",
       "      <td>...</td>\n",
       "      <td>...</td>\n",
       "      <td>...</td>\n",
       "      <td>...</td>\n",
       "      <td>...</td>\n",
       "      <td>...</td>\n",
       "      <td>...</td>\n",
       "      <td>...</td>\n",
       "      <td>...</td>\n",
       "      <td>...</td>\n",
       "      <td>...</td>\n",
       "      <td>...</td>\n",
       "      <td>...</td>\n",
       "      <td>...</td>\n",
       "      <td>...</td>\n",
       "      <td>...</td>\n",
       "      <td>...</td>\n",
       "    </tr>\n",
       "    <tr>\n",
       "      <td>283</td>\n",
       "      <td>E0</td>\n",
       "      <td>07/03/2020</td>\n",
       "      <td>15:00</td>\n",
       "      <td>Wolves</td>\n",
       "      <td>Brighton</td>\n",
       "      <td>0</td>\n",
       "      <td>0</td>\n",
       "      <td>D</td>\n",
       "      <td>0</td>\n",
       "      <td>0</td>\n",
       "      <td>...</td>\n",
       "      <td>42.6</td>\n",
       "      <td>73</td>\n",
       "      <td>1</td>\n",
       "      <td>61</td>\n",
       "      <td>4</td>\n",
       "      <td>9</td>\n",
       "      <td>2</td>\n",
       "      <td>0.606061</td>\n",
       "      <td>0.253165</td>\n",
       "      <td>0.182482</td>\n",
       "    </tr>\n",
       "    <tr>\n",
       "      <td>284</td>\n",
       "      <td>E0</td>\n",
       "      <td>07/03/2020</td>\n",
       "      <td>17:30</td>\n",
       "      <td>Burnley</td>\n",
       "      <td>Tottenham</td>\n",
       "      <td>1</td>\n",
       "      <td>1</td>\n",
       "      <td>D</td>\n",
       "      <td>1</td>\n",
       "      <td>0</td>\n",
       "      <td>...</td>\n",
       "      <td>58.9</td>\n",
       "      <td>75</td>\n",
       "      <td>1</td>\n",
       "      <td>57</td>\n",
       "      <td>3</td>\n",
       "      <td>9</td>\n",
       "      <td>3</td>\n",
       "      <td>0.367647</td>\n",
       "      <td>0.303030</td>\n",
       "      <td>0.371747</td>\n",
       "    </tr>\n",
       "    <tr>\n",
       "      <td>285</td>\n",
       "      <td>E0</td>\n",
       "      <td>08/03/2020</td>\n",
       "      <td>14:00</td>\n",
       "      <td>Chelsea</td>\n",
       "      <td>Everton</td>\n",
       "      <td>4</td>\n",
       "      <td>0</td>\n",
       "      <td>H</td>\n",
       "      <td>2</td>\n",
       "      <td>0</td>\n",
       "      <td>...</td>\n",
       "      <td>51.5</td>\n",
       "      <td>49</td>\n",
       "      <td>0</td>\n",
       "      <td>56</td>\n",
       "      <td>4</td>\n",
       "      <td>9</td>\n",
       "      <td>3</td>\n",
       "      <td>0.534759</td>\n",
       "      <td>0.267380</td>\n",
       "      <td>0.238095</td>\n",
       "    </tr>\n",
       "    <tr>\n",
       "      <td>286</td>\n",
       "      <td>E0</td>\n",
       "      <td>08/03/2020</td>\n",
       "      <td>16:30</td>\n",
       "      <td>Man United</td>\n",
       "      <td>Man City</td>\n",
       "      <td>2</td>\n",
       "      <td>0</td>\n",
       "      <td>H</td>\n",
       "      <td>1</td>\n",
       "      <td>0</td>\n",
       "      <td>...</td>\n",
       "      <td>67.8</td>\n",
       "      <td>75</td>\n",
       "      <td>4</td>\n",
       "      <td>44</td>\n",
       "      <td>1</td>\n",
       "      <td>11</td>\n",
       "      <td>3</td>\n",
       "      <td>0.198413</td>\n",
       "      <td>0.233645</td>\n",
       "      <td>0.609756</td>\n",
       "    </tr>\n",
       "    <tr>\n",
       "      <td>287</td>\n",
       "      <td>E0</td>\n",
       "      <td>09/03/2020</td>\n",
       "      <td>20:00</td>\n",
       "      <td>Leicester</td>\n",
       "      <td>Aston Villa</td>\n",
       "      <td>4</td>\n",
       "      <td>0</td>\n",
       "      <td>H</td>\n",
       "      <td>1</td>\n",
       "      <td>0</td>\n",
       "      <td>...</td>\n",
       "      <td>53.9</td>\n",
       "      <td>60</td>\n",
       "      <td>5</td>\n",
       "      <td>80</td>\n",
       "      <td>3</td>\n",
       "      <td>7</td>\n",
       "      <td>2</td>\n",
       "      <td>0.724638</td>\n",
       "      <td>0.195312</td>\n",
       "      <td>0.124224</td>\n",
       "    </tr>\n",
       "  </tbody>\n",
       "</table>\n",
       "<p>288 rows × 123 columns</p>\n",
       "</div>"
      ],
      "text/plain": [
       "    Div        Date   Time        HomeTeam          AwayTeam  FTHG  FTAG FTR  \\\n",
       "0    E0  09/08/2019  20:00       Liverpool           Norwich     4     1   H   \n",
       "1    E0  10/08/2019  12:30        West Ham          Man City     0     5   A   \n",
       "2    E0  10/08/2019  15:00     Bournemouth  Sheffield United     1     1   D   \n",
       "3    E0  10/08/2019  15:00         Burnley       Southampton     3     0   H   \n",
       "4    E0  10/08/2019  15:00  Crystal Palace           Everton     0     0   D   \n",
       "..   ..         ...    ...             ...               ...   ...   ...  ..   \n",
       "283  E0  07/03/2020  15:00          Wolves          Brighton     0     0   D   \n",
       "284  E0  07/03/2020  17:30         Burnley         Tottenham     1     1   D   \n",
       "285  E0  08/03/2020  14:00         Chelsea           Everton     4     0   H   \n",
       "286  E0  08/03/2020  16:30      Man United          Man City     2     0   H   \n",
       "287  E0  09/03/2020  20:00       Leicester       Aston Villa     4     0   H   \n",
       "\n",
       "     HTHG  HTAG  ... Poss_y CrdY_x  CrdR_x  CrdY_y  CrdR_y  Home Form  \\\n",
       "0       4     0  ...   57.6     39       2      79       1          0   \n",
       "1       0     1  ...   67.8     59       1      44       1          0   \n",
       "2       0     0  ...   52.1     60       1      75       3          0   \n",
       "3       0     0  ...   43.9     75       1      73       3          0   \n",
       "4       0     0  ...   51.5     58       2      56       4          0   \n",
       "..    ...   ...  ...    ...    ...     ...     ...     ...        ...   \n",
       "283     0     0  ...   42.6     73       1      61       4          9   \n",
       "284     1     0  ...   58.9     75       1      57       3          9   \n",
       "285     2     0  ...   51.5     49       0      56       4          9   \n",
       "286     1     0  ...   67.8     75       4      44       1         11   \n",
       "287     1     0  ...   53.9     60       5      80       3          7   \n",
       "\n",
       "     Away Form  ImpliedH  ImpliedD  ImpliedA  \n",
       "0            0  0.877193  0.114286  0.050429  \n",
       "1            0  0.084459  0.159236  0.800000  \n",
       "2            0  0.497512  0.283286  0.261097  \n",
       "3            0  0.373134  0.310559  0.359712  \n",
       "4            0  0.319489  0.305810  0.416667  \n",
       "..         ...       ...       ...       ...  \n",
       "283          2  0.606061  0.253165  0.182482  \n",
       "284          3  0.367647  0.303030  0.371747  \n",
       "285          3  0.534759  0.267380  0.238095  \n",
       "286          3  0.198413  0.233645  0.609756  \n",
       "287          2  0.724638  0.195312  0.124224  \n",
       "\n",
       "[288 rows x 123 columns]"
      ]
     },
     "execution_count": 3,
     "metadata": {},
     "output_type": "execute_result"
    }
   ],
   "source": [
    "# Loading the data set of all fixtures over the past 5 years\n",
    "\n",
    "Finalfixlist2020=pd.read_csv('Data/Finalfixlist2020.csv')\n",
    "Finalfixlist2019=pd.read_csv('Data/Finalfixlist2019.csv')\n",
    "Finalfixlist2018=pd.read_csv('Data/Finalfixlist2018.csv')\n",
    "Finalfixlist2017=pd.read_csv('Data/Finalfixlist2017.csv')\n",
    "Finalfixlist2016=pd.read_csv('Data/Finalfixlist2016.csv')\n",
    "\n",
    "# Calculating implied probabilites from the bookmaker odds\n",
    "Finalfixlist2020['ImpliedH']=1/Finalfixlist2020['AvgH']\n",
    "Finalfixlist2019['ImpliedH']=1/Finalfixlist2019['BbAvH']\n",
    "Finalfixlist2018['ImpliedH']=1/Finalfixlist2018['BbAvH']\n",
    "Finalfixlist2017['ImpliedH']=1/Finalfixlist2017['BbAvH']\n",
    "Finalfixlist2016['ImpliedH']=1/Finalfixlist2016['BbAvH']\n",
    "\n",
    "Finalfixlist2020['ImpliedD']=1/Finalfixlist2020['AvgD']\n",
    "Finalfixlist2019['ImpliedD']=1/Finalfixlist2019['BbAvD']\n",
    "Finalfixlist2018['ImpliedD']=1/Finalfixlist2018['BbAvD']\n",
    "Finalfixlist2017['ImpliedD']=1/Finalfixlist2017['BbAvD']\n",
    "Finalfixlist2016['ImpliedD']=1/Finalfixlist2016['BbAvD']\n",
    "\n",
    "Finalfixlist2020['ImpliedA']=1/Finalfixlist2020['AvgA']\n",
    "Finalfixlist2019['ImpliedA']=1/Finalfixlist2019['BbAvA']\n",
    "Finalfixlist2018['ImpliedA']=1/Finalfixlist2018['BbAvA']\n",
    "Finalfixlist2017['ImpliedA']=1/Finalfixlist2017['BbAvA']\n",
    "Finalfixlist2016['ImpliedA']=1/Finalfixlist2016['BbAvA']\n",
    "\n",
    "# Combined_fixlist is the training data set\n",
    "frames=[Finalfixlist2019,Finalfixlist2018,Finalfixlist2017,Finalfixlist2016]\n",
    "combined_fixlist=pd.concat(frames,sort=False)\n",
    "combined_fixlist.reset_index(drop=True)\n",
    "\n",
    "# combined_fixlist2 is the test data set\n",
    "frames2=[Finalfixlist2020]\n",
    "combined_fixlist2=pd.concat(frames2,sort=False)\n",
    "combined_fixlist2.reset_index(drop=True)"
   ]
  },
  {
   "cell_type": "code",
   "execution_count": 4,
   "metadata": {},
   "outputs": [],
   "source": [
    "# Combining Pts scored by the home team and away team to create a single measure 'lastseasonptdiff' that measures the difference between the teams last season\n",
    "combined_fixlist['Lastseasptdiff']=combined_fixlist['Pts']-combined_fixlist['Pts.1']\n",
    "combined_fixlist2['Lastseasptdiff']=combined_fixlist2['Pts']-combined_fixlist2['Pts.1']\n"
   ]
  },
  {
   "cell_type": "markdown",
   "metadata": {},
   "source": [
    "# Draw predictor"
   ]
  },
  {
   "cell_type": "code",
   "execution_count": 5,
   "metadata": {},
   "outputs": [
    {
     "name": "stderr",
     "output_type": "stream",
     "text": [
      "C:\\ProgramData\\Anaconda3\\lib\\site-packages\\pandas\\core\\indexing.py:205: SettingWithCopyWarning: \n",
      "A value is trying to be set on a copy of a slice from a DataFrame\n",
      "\n",
      "See the caveats in the documentation: http://pandas.pydata.org/pandas-docs/stable/user_guide/indexing.html#returning-a-view-versus-a-copy\n",
      "  self._setitem_with_indexer(indexer, value)\n"
     ]
    }
   ],
   "source": [
    "for i in range(combined_fixlist[['FTR']].shape[0]):\n",
    "    if combined_fixlist['FTR'].iloc[i]!='D':\n",
    "        combined_fixlist['FTR'].iloc[i]='ND'\n",
    "\n",
    "for i in range(combined_fixlist2[['FTR']].shape[0]):\n",
    "    if combined_fixlist2['FTR'].iloc[i]!='D':\n",
    "        combined_fixlist2['FTR'].iloc[i]='ND'"
   ]
  },
  {
   "cell_type": "code",
   "execution_count": 6,
   "metadata": {},
   "outputs": [
    {
     "name": "stdout",
     "output_type": "stream",
     "text": [
      "              precision    recall  f1-score   support\n",
      "\n",
      "           D       0.33      0.69      0.44        71\n",
      "          ND       0.84      0.53      0.65       215\n",
      "\n",
      "    accuracy                           0.57       286\n",
      "   macro avg       0.58      0.61      0.55       286\n",
      "weighted avg       0.71      0.57      0.60       286\n",
      "\n"
     ]
    },
    {
     "name": "stderr",
     "output_type": "stream",
     "text": [
      "C:\\ProgramData\\Anaconda3\\lib\\site-packages\\sklearn\\linear_model\\logistic.py:432: FutureWarning: Default solver will be changed to 'lbfgs' in 0.22. Specify a solver to silence this warning.\n",
      "  FutureWarning)\n",
      "C:\\ProgramData\\Anaconda3\\lib\\site-packages\\sklearn\\utils\\validation.py:724: DataConversionWarning: A column-vector y was passed when a 1d array was expected. Please change the shape of y to (n_samples, ), for example using ravel().\n",
      "  y = column_or_1d(y, warn=True)\n"
     ]
    }
   ],
   "source": [
    "features=combined_fixlist[['ImpliedH','ImpliedD','ImpliedA','Lastseasptdiff','Home Form','Away Form','Poss_x','Poss_y','CrdY_x','CrdY_y']]\n",
    "target=combined_fixlist[['FTR']]\n",
    "features_train, features_test, target_train, target_test = train_test_split(features, target, test_size = .01, random_state = 140)\n",
    "\n",
    "features2=combined_fixlist2[['ImpliedH','ImpliedD','ImpliedA','Lastseasptdiff','Home Form','Away Form','Poss_x','Poss_y','CrdY_x','CrdY_y']]\n",
    "target2=combined_fixlist2[['FTR']]\n",
    "features_train2, features_test2, target_train2, target_test2 = train_test_split(features2, target2, test_size = 0.99, random_state = 140)\n",
    "\n",
    "\n",
    "regrd = LogisticRegression(class_weight='balanced') \n",
    "regrd.fit(features_train, target_train)\n",
    "predicteddraw = regrd.predict(features_test2)\n",
    "predicteddraw_prob = regrd.predict_proba(features_test2)\n",
    "report=classification_report(target_test2,predicteddraw,output_dict=True)\n",
    "print(classification_report(target_test2,predicteddraw))"
   ]
  },
  {
   "cell_type": "markdown",
   "metadata": {},
   "source": [
    "# Home win predictor"
   ]
  },
  {
   "cell_type": "code",
   "execution_count": 7,
   "metadata": {},
   "outputs": [],
   "source": [
    "frames=[Finalfixlist2019,Finalfixlist2018,Finalfixlist2017,Finalfixlist2016]\n",
    "combined_fixlist=pd.concat(frames,sort=False)\n",
    "combined_fixlist.reset_index(drop=True)\n",
    "\n",
    "frames2=[Finalfixlist2020]\n",
    "combined_fixlist2=pd.concat(frames2,sort=False)\n",
    "combined_fixlist2.reset_index(drop=True)\n",
    "\n",
    "combined_fixlist['Lastseasptdiff']=combined_fixlist['Pts']-combined_fixlist['Pts.1']\n",
    "combined_fixlist2['Lastseasptdiff']=combined_fixlist2['Pts']-combined_fixlist2['Pts.1']"
   ]
  },
  {
   "cell_type": "code",
   "execution_count": 8,
   "metadata": {},
   "outputs": [
    {
     "name": "stderr",
     "output_type": "stream",
     "text": [
      "C:\\ProgramData\\Anaconda3\\lib\\site-packages\\pandas\\core\\indexing.py:205: SettingWithCopyWarning: \n",
      "A value is trying to be set on a copy of a slice from a DataFrame\n",
      "\n",
      "See the caveats in the documentation: http://pandas.pydata.org/pandas-docs/stable/user_guide/indexing.html#returning-a-view-versus-a-copy\n",
      "  self._setitem_with_indexer(indexer, value)\n"
     ]
    }
   ],
   "source": [
    "for i in range(combined_fixlist[['FTR']].shape[0]):\n",
    "    if combined_fixlist['FTR'].iloc[i]!='H':\n",
    "        combined_fixlist['FTR'].iloc[i]='NH'\n",
    "\n",
    "for i in range(combined_fixlist2[['FTR']].shape[0]):\n",
    "    if combined_fixlist2['FTR'].iloc[i]!='H':\n",
    "        combined_fixlist2['FTR'].iloc[i]='NH'"
   ]
  },
  {
   "cell_type": "code",
   "execution_count": 9,
   "metadata": {},
   "outputs": [
    {
     "name": "stdout",
     "output_type": "stream",
     "text": [
      "              precision    recall  f1-score   support\n",
      "\n",
      "           H       0.64      0.59      0.62       128\n",
      "          NH       0.69      0.73      0.71       158\n",
      "\n",
      "    accuracy                           0.67       286\n",
      "   macro avg       0.66      0.66      0.66       286\n",
      "weighted avg       0.67      0.67      0.67       286\n",
      "\n"
     ]
    },
    {
     "name": "stderr",
     "output_type": "stream",
     "text": [
      "C:\\ProgramData\\Anaconda3\\lib\\site-packages\\sklearn\\linear_model\\logistic.py:432: FutureWarning: Default solver will be changed to 'lbfgs' in 0.22. Specify a solver to silence this warning.\n",
      "  FutureWarning)\n",
      "C:\\ProgramData\\Anaconda3\\lib\\site-packages\\sklearn\\utils\\validation.py:724: DataConversionWarning: A column-vector y was passed when a 1d array was expected. Please change the shape of y to (n_samples, ), for example using ravel().\n",
      "  y = column_or_1d(y, warn=True)\n"
     ]
    }
   ],
   "source": [
    "features=combined_fixlist[['ImpliedH','ImpliedD','ImpliedA','Lastseasptdiff','Home Form','Away Form','Poss_x','Poss_y','CrdY_x','CrdY_y']]\n",
    "target=combined_fixlist[['FTR']]\n",
    "features_train, features_test, target_train, target_test = train_test_split(features, target, test_size = .01, random_state = 140)\n",
    "\n",
    "features2=combined_fixlist2[['ImpliedH','ImpliedD','ImpliedA','Lastseasptdiff','Home Form','Away Form','Poss_x','Poss_y','CrdY_x','CrdY_y']]\n",
    "target2=combined_fixlist2[['FTR']]\n",
    "features_train2, features_test2, target_train2, target_test2 = train_test_split(features2, target2, test_size = 0.99, random_state = 140)\n",
    "\n",
    "\n",
    "regrh = LogisticRegression(class_weight='balanced') \n",
    "regrh.fit(features_train, target_train)\n",
    "predictedhome = regrh.predict(features_test2)\n",
    "predictedhome_prob = regrh.predict_proba(features_test2)\n",
    "report=classification_report(target_test2,predictedhome,output_dict=True)\n",
    "print(classification_report(target_test2,predictedhome))"
   ]
  },
  {
   "cell_type": "markdown",
   "metadata": {},
   "source": [
    "# Away win predictor"
   ]
  },
  {
   "cell_type": "code",
   "execution_count": 10,
   "metadata": {},
   "outputs": [],
   "source": [
    "frames=[Finalfixlist2019,Finalfixlist2018,Finalfixlist2017,Finalfixlist2016]\n",
    "combined_fixlist=pd.concat(frames,sort=False)\n",
    "combined_fixlist.reset_index(drop=True)\n",
    "\n",
    "frames2=[Finalfixlist2020]\n",
    "combined_fixlist2=pd.concat(frames2,sort=False)\n",
    "combined_fixlist2.reset_index(drop=True)\n",
    "\n",
    "combined_fixlist['Lastseasptdiff']=combined_fixlist['Pts']-combined_fixlist['Pts.1']\n",
    "combined_fixlist2['Lastseasptdiff']=combined_fixlist2['Pts']-combined_fixlist2['Pts.1']"
   ]
  },
  {
   "cell_type": "code",
   "execution_count": 11,
   "metadata": {},
   "outputs": [
    {
     "name": "stderr",
     "output_type": "stream",
     "text": [
      "C:\\ProgramData\\Anaconda3\\lib\\site-packages\\pandas\\core\\indexing.py:205: SettingWithCopyWarning: \n",
      "A value is trying to be set on a copy of a slice from a DataFrame\n",
      "\n",
      "See the caveats in the documentation: http://pandas.pydata.org/pandas-docs/stable/user_guide/indexing.html#returning-a-view-versus-a-copy\n",
      "  self._setitem_with_indexer(indexer, value)\n"
     ]
    }
   ],
   "source": [
    "for i in range(combined_fixlist[['FTR']].shape[0]):\n",
    "    if combined_fixlist['FTR'].iloc[i]!='A':\n",
    "        combined_fixlist['FTR'].iloc[i]='NA'\n",
    "\n",
    "for i in range(combined_fixlist2[['FTR']].shape[0]):\n",
    "    if combined_fixlist2['FTR'].iloc[i]!='A':\n",
    "        combined_fixlist2['FTR'].iloc[i]='NA'"
   ]
  },
  {
   "cell_type": "code",
   "execution_count": 12,
   "metadata": {},
   "outputs": [
    {
     "name": "stdout",
     "output_type": "stream",
     "text": [
      "              precision    recall  f1-score   support\n",
      "\n",
      "           A       0.44      0.70      0.54        87\n",
      "          NA       0.82      0.61      0.70       199\n",
      "\n",
      "    accuracy                           0.64       286\n",
      "   macro avg       0.63      0.66      0.62       286\n",
      "weighted avg       0.71      0.64      0.65       286\n",
      "\n"
     ]
    },
    {
     "name": "stderr",
     "output_type": "stream",
     "text": [
      "C:\\ProgramData\\Anaconda3\\lib\\site-packages\\sklearn\\linear_model\\logistic.py:432: FutureWarning: Default solver will be changed to 'lbfgs' in 0.22. Specify a solver to silence this warning.\n",
      "  FutureWarning)\n",
      "C:\\ProgramData\\Anaconda3\\lib\\site-packages\\sklearn\\utils\\validation.py:724: DataConversionWarning: A column-vector y was passed when a 1d array was expected. Please change the shape of y to (n_samples, ), for example using ravel().\n",
      "  y = column_or_1d(y, warn=True)\n"
     ]
    }
   ],
   "source": [
    "features=combined_fixlist[['ImpliedH','ImpliedD','ImpliedA','Lastseasptdiff','Home Form','Away Form','Poss_x','Poss_y','CrdY_x','CrdY_y']]\n",
    "target=combined_fixlist[['FTR']]\n",
    "features_train, features_test, target_train, target_test = train_test_split(features, target, test_size = .01, random_state = 140)\n",
    "\n",
    "features2=combined_fixlist2[['ImpliedH','ImpliedD','ImpliedA','Lastseasptdiff','Home Form','Away Form','Poss_x','Poss_y','CrdY_x','CrdY_y']]\n",
    "target2=combined_fixlist2[['FTR']]\n",
    "features_train2, features_test2, target_train2, target_test2 = train_test_split(features2, target2, test_size = 0.99, random_state = 140)\n",
    "\n",
    "\n",
    "regra = LogisticRegression(class_weight='balanced') \n",
    "regra.fit(features_train, target_train)\n",
    "predictedaway = regra.predict(features_test2)\n",
    "predictedaway_prob = regra.predict_proba(features_test2)\n",
    "report=classification_report(target_test2,predictedaway,output_dict=True)\n",
    "print(classification_report(target_test2,predictedaway))"
   ]
  },
  {
   "cell_type": "markdown",
   "metadata": {},
   "source": [
    "# Combining all 3 classifiers"
   ]
  },
  {
   "cell_type": "code",
   "execution_count": 13,
   "metadata": {},
   "outputs": [],
   "source": [
    "predictedcombo=['D']*len(predictedaway)\n",
    "for i in range(len(predictedcombo)):\n",
    "    if (predictedaway_prob[i,0]>predicteddraw_prob[i,0]) and (predictedaway_prob[i,0]>predicteddraw_prob[i,0]):\n",
    "        predictedcombo[i]='A'\n",
    "    elif (predictedhome_prob[i,0]>predicteddraw_prob[i,0]) and (predictedhome_prob[i,0]>predicteddraw_prob[i,0]):\n",
    "        predictedcombo[i]='H'"
   ]
  },
  {
   "cell_type": "code",
   "execution_count": 14,
   "metadata": {},
   "outputs": [
    {
     "name": "stdout",
     "output_type": "stream",
     "text": [
      "              precision    recall  f1-score   support\n",
      "\n",
      "           A       0.47      0.57      0.52        87\n",
      "           D       0.36      0.35      0.36        71\n",
      "           H       0.66      0.57      0.61       128\n",
      "\n",
      "    accuracy                           0.52       286\n",
      "   macro avg       0.50      0.50      0.50       286\n",
      "weighted avg       0.53      0.52      0.52       286\n",
      "\n"
     ]
    }
   ],
   "source": [
    "frames2=[Finalfixlist2020]\n",
    "combined_fixlist2=pd.concat(frames2,sort=False)\n",
    "combined_fixlist2.reset_index(drop=True)\n",
    "combined_fixlist2['Lastseasptdiff']=combined_fixlist2['Pts']-combined_fixlist2['Pts.1']\n",
    "\n",
    "features2=combined_fixlist2[['ImpliedH','ImpliedD','ImpliedA','Lastseasptdiff','Home Form','Away Form','Poss_x','Poss_y','CrdY_x','CrdY_y']]\n",
    "target2=combined_fixlist2[['FTR']]\n",
    "\n",
    "features_train2, features_test2, target_train2, target_test2 = train_test_split(features2, target2, test_size = 0.99, random_state = 140)\n",
    "\n",
    "report_combo=classification_report(target_test2,predictedcombo,output_dict=True)\n",
    "print(classification_report(target_test2,predictedcombo))"
   ]
  },
  {
   "cell_type": "code",
   "execution_count": 15,
   "metadata": {},
   "outputs": [
    {
     "data": {
      "text/plain": [
       "(3, 0)"
      ]
     },
     "execution_count": 15,
     "metadata": {},
     "output_type": "execute_result"
    },
    {
     "data": {
      "application/pdf": "[encoded data removed]",
      "image/png": "[encoded data removed]",
      "text/plain": [
       "<Figure size 432x288 with 2 Axes>"
      ]
     },
     "metadata": {},
     "output_type": "display_data"
    }
   ],
   "source": [
    "from sklearn import metrics\n",
    "cm=metrics.confusion_matrix(target_test2,predictedcombo)\n",
    "df_cm = pd.DataFrame(cm, index = [i for i in ['Away win','Draw','Home win']],\n",
    "                  columns = [i for i in ['Away win','Draw', 'Home win']])\n",
    "\n",
    "#plt.figure(figsize = (10,7))\n",
    "sns.set(font_scale=1.4) \n",
    "ax=sns.heatmap(df_cm, annot=True,annot_kws={\"size\": 16},cmap=\"YlGnBu\",fmt='g')\n",
    "ax.set_ylim(len(df_cm), 0)"
   ]
  },
  {
   "cell_type": "code",
   "execution_count": 16,
   "metadata": {},
   "outputs": [
    {
     "name": "stdout",
     "output_type": "stream",
     "text": [
      "              precision    recall  f1-score   support\n",
      "\n",
      "           A       0.52      0.57      0.55        87\n",
      "           D       0.00      0.00      0.00        71\n",
      "           H       0.54      0.80      0.64       128\n",
      "\n",
      "    accuracy                           0.53       286\n",
      "   macro avg       0.35      0.46      0.40       286\n",
      "weighted avg       0.40      0.53      0.45       286\n",
      "\n"
     ]
    },
    {
     "name": "stderr",
     "output_type": "stream",
     "text": [
      "C:\\ProgramData\\Anaconda3\\lib\\site-packages\\sklearn\\metrics\\classification.py:1437: UndefinedMetricWarning: Precision and F-score are ill-defined and being set to 0.0 in labels with no predicted samples.\n",
      "  'precision', 'predicted', average, warn_for)\n"
     ]
    }
   ],
   "source": [
    "fav=['D']*len(predictedaway)\n",
    "for i in range(len(fav)):\n",
    "    if (features_test2.iloc[i,0]>features_test2.iloc[i,1]) and (features_test2.iloc[i,0]>features_test2.iloc[i,2]):\n",
    "        fav[i]='H'\n",
    "    elif (features_test2.iloc[i,1]>features_test2.iloc[i,0]) and (features_test2.iloc[i,1]>features_test2.iloc[i,2]):\n",
    "        fav[i]='D'\n",
    "    else:\n",
    "        fav[i]='A'\n",
    "report_fav=classification_report(target_test2,fav,output_dict=True)\n",
    "print(classification_report(target_test2,fav))"
   ]
  },
  {
   "cell_type": "code",
   "execution_count": 17,
   "metadata": {},
   "outputs": [
    {
     "data": {
      "text/plain": [
       "(3, 0)"
      ]
     },
     "execution_count": 17,
     "metadata": {},
     "output_type": "execute_result"
    },
    {
     "data": {
      "application/pdf": "[encoded data removed]",
      "image/png": "[encoded data removed]",
      "text/plain": [
       "<Figure size 432x288 with 2 Axes>"
      ]
     },
     "metadata": {},
     "output_type": "display_data"
    }
   ],
   "source": [
    "from sklearn import metrics\n",
    "cm=metrics.confusion_matrix(target_test2,fav)\n",
    "df_cm = pd.DataFrame(cm, index = [i for i in ['Away win','Draw','Home win']],\n",
    "                  columns = [i for i in ['Away win','Draw', 'Home win']])\n",
    "\n",
    "#plt.figure(figsize = (10,7))\n",
    "sns.set(font_scale=1.6) \n",
    "ax=sns.heatmap(df_cm, annot=True,annot_kws={\"size\": 16},cmap=\"YlGnBu\",fmt='g')\n",
    "ax.set_ylim(len(df_cm), 0)"
   ]
  },
  {
   "cell_type": "markdown",
   "metadata": {},
   "source": [
    "# Plots for presentation"
   ]
  },
  {
   "cell_type": "code",
   "execution_count": 29,
   "metadata": {
    "scrolled": true
   },
   "outputs": [
    {
     "data": {
      "application/pdf": "[encoded data removed]",
      "image/png": "[encoded data removed]",
      "text/plain": [
       "<Figure size 576x468 with 1 Axes>"
      ]
     },
     "metadata": {},
     "output_type": "display_data"
    }
   ],
   "source": [
    "precisiondf1=pd.DataFrame(data=report_fav).T\n",
    "precisiondf2=pd.DataFrame(data=report_combo).T\n",
    "precisiondf1=precisiondf1[['precision']].iloc[0:3]\n",
    "precisiondf2=precisiondf2[['precision']].iloc[0:3]\n",
    "precisiondf1['Class']='Bet on favourite'\n",
    "precisiondf2['Class']='One vs all classifier'\n",
    "data={'Result':['Home win','Away win','Draw','Home win','Away win','Draw'],'Classifier':['Favourite','Favourite','Favourite','One vs all classifier','One vs all classifier','One vs all classifier'],'Precision':[report_fav['H']['precision'],report_fav['A']['precision'],report_fav['D']['precision'],report_combo['H']['precision'],report_combo['A']['precision'],report_combo['D']['precision']]}\n",
    "dfprecision=pd.DataFrame(data=data)\n",
    "plt.figure(figsize = (8,6.5))\n",
    "sns.set_style(\"whitegrid\")\n",
    "ax = sns.barplot(x=\"Result\", y=\"Precision\", hue=\"Classifier\", data=dfprecision)\n",
    "plt.savefig('model_performance.png', dpi=600)"
   ]
  },
  {
   "cell_type": "markdown",
   "metadata": {},
   "source": [
    "## Betting strategies comparison chart"
   ]
  },
  {
   "cell_type": "code",
   "execution_count": 19,
   "metadata": {},
   "outputs": [],
   "source": [
    "# Bet on all draws predicted by Classifier\n",
    "money_return=0\n",
    "count=0\n",
    "for i in range(len(predicteddraw)):\n",
    "    if predicteddraw[i]=='D':\n",
    "        count=count+1\n",
    "        if target_test2['FTR'].iloc[i]=='D':\n",
    "            money_return=money_return+100/features_test2['ImpliedD'].iloc[i]            \n",
    "onlydrawsclass=(money_return-count*100)*100/(count*100)"
   ]
  },
  {
   "cell_type": "code",
   "execution_count": 20,
   "metadata": {},
   "outputs": [],
   "source": [
    "# Bet on all games and on result predicted by the classifier\n",
    "money_return=0\n",
    "count=0\n",
    "for i in range(len(predictedaway)):\n",
    "    count=count+1\n",
    "    if target_test2['FTR'].iloc[i]==predictedcombo[i]:\n",
    "        if predictedcombo[i]=='A':\n",
    "            money_return=money_return+100/features_test2['ImpliedA'].iloc[i]\n",
    "        elif predictedcombo[i]=='D':\n",
    "            money_return=money_return+100/features_test2['ImpliedD'].iloc[i]\n",
    "        elif predictedcombo[i]=='H':\n",
    "            money_return=money_return+100/features_test2['ImpliedH'].iloc[i]\n",
    "            \n",
    "allgamesclass=(money_return-count*100)*100/(count*100)"
   ]
  },
  {
   "cell_type": "code",
   "execution_count": 21,
   "metadata": {},
   "outputs": [],
   "source": [
    "# Bet on all games and on the favourite\n",
    "money_return=0\n",
    "count=0\n",
    "for i in range(len(predictedaway)):\n",
    "    count=count+1\n",
    "    if target_test2['FTR'].iloc[i]==fav[i]:\n",
    "        if fav[i]=='A':\n",
    "            money_return=money_return+100/features_test2['ImpliedA'].iloc[i]\n",
    "        elif fav[i]=='D':\n",
    "            money_return=money_return+100/features_test2['ImpliedD'].iloc[i]\n",
    "        elif fav[i]=='H':\n",
    "            money_return=money_return+100/features_test2['ImpliedH'].iloc[i]\n",
    "            \n",
    "allgamesfav=(money_return-count*100)*100/(count*100)"
   ]
  },
  {
   "cell_type": "code",
   "execution_count": 22,
   "metadata": {},
   "outputs": [
    {
     "data": {
      "application/pdf": "[encoded data removed]",
      "image/png": "[encoded data removed]",
      "text/plain": [
       "<Figure size 432x288 with 1 Axes>"
      ]
     },
     "metadata": {},
     "output_type": "display_data"
    }
   ],
   "source": [
    "gamblingresult={'Profit (%)':[allgamesfav,allgamesclass,onlydrawsclass],'Strategy':['I','II','III']}\n",
    "dfgambling=pd.DataFrame(data=gamblingresult)\n",
    "ax = sns.barplot(x=\"Strategy\", y=\"Profit (%)\", data=dfgambling)\n",
    "sns.set_style(\"whitegrid\")\n",
    "plt.savefig('money_made.png', dpi=600)"
   ]
  },
  {
   "cell_type": "markdown",
   "metadata": {},
   "source": [
    "## Predicting this week's results"
   ]
  },
  {
   "cell_type": "code",
   "execution_count": 23,
   "metadata": {},
   "outputs": [
    {
     "name": "stderr",
     "output_type": "stream",
     "text": [
      "C:\\ProgramData\\Anaconda3\\lib\\site-packages\\ipykernel_launcher.py:2: SettingWithCopyWarning: \n",
      "A value is trying to be set on a copy of a slice from a DataFrame.\n",
      "Try using .loc[row_indexer,col_indexer] = value instead\n",
      "\n",
      "See the caveats in the documentation: http://pandas.pydata.org/pandas-docs/stable/user_guide/indexing.html#returning-a-view-versus-a-copy\n",
      "  \n"
     ]
    }
   ],
   "source": [
    "combined_fixlist3=combined_fixlist2.iloc[278:288,:]\n",
    "combined_fixlist3['Lastseasptdiff']=combined_fixlist3['Pts']-combined_fixlist3['Pts.1']\n",
    "\n",
    "features3=combined_fixlist3[['ImpliedH','ImpliedD','ImpliedA','Lastseasptdiff','Home Form','Away Form','Poss_x','Poss_y','CrdY_x','CrdY_y']]\n",
    "\n",
    "predicteddraw_prob2 = regrd.predict_proba(features3)\n",
    "predictedaway_prob2 = regra.predict_proba(features3)\n",
    "predictedhome_prob2 = regrh.predict_proba(features3)\n",
    "\n",
    "predictedhomewin=[0]*len(predicteddraw_prob2[:,0])\n",
    "predictedawaywin=[0]*len(predicteddraw_prob2[:,0])\n",
    "predicteddraw=[0]*len(predicteddraw_prob2[:,0])\n",
    "\n",
    "for i in range(predicteddraw_prob2.shape[0]):\n",
    "    total=predicteddraw_prob2[i,0]+predictedaway_prob2[i,0]+predictedhome_prob2[i,0]\n",
    "    predictedhomewin[i]=predictedhome_prob2[i,0]/total\n",
    "    predictedawaywin[i]=predictedaway_prob2[i,0]/total\n",
    "    predicteddraw[i]=predicteddraw_prob2[i,0]/total    \n",
    "    \n",
    "predh2=np.flipud(predictedhomewin) \n",
    "predd2=np.flipud(predicteddraw) \n",
    "preda2=np.flipud(predictedawaywin) "
   ]
  },
  {
   "cell_type": "code",
   "execution_count": 24,
   "metadata": {},
   "outputs": [
    {
     "data": {
      "text/plain": [
       "[0.30531118396141366,\n",
       " 0.34903586843531786,\n",
       " 0.375273949178597,\n",
       " 0.34555797963970314,\n",
       " 0.3476654543349829,\n",
       " 0.3663133420275923,\n",
       " 0.3393307084979115,\n",
       " 0.3617085145485098,\n",
       " 0.29173936514136256,\n",
       " 0.31676883316540216]"
      ]
     },
     "execution_count": 24,
     "metadata": {},
     "output_type": "execute_result"
    }
   ],
   "source": [
    "predicteddraw"
   ]
  },
  {
   "cell_type": "code",
   "execution_count": null,
   "metadata": {},
   "outputs": [],
   "source": []
  }
 ],
 "metadata": {
  "kernelspec": {
   "display_name": "Python 3",
   "language": "python",
   "name": "python3"
  },
  "language_info": {
   "codemirror_mode": {
    "name": "ipython",
    "version": 3
   },
   "file_extension": ".py",
   "mimetype": "text/x-python",
   "name": "python",
   "nbconvert_exporter": "python",
   "pygments_lexer": "ipython3",
   "version": "3.7.4"
  }
 },
 "nbformat": 4,
 "nbformat_minor": 2
}
